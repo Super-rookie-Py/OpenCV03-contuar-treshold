{
 "cells": [
  {
   "cell_type": "markdown",
   "metadata": {},
   "source": [
    "# 강의노트\n",
    "### OpenCV Tracker 사용범"
   ]
  },
  {
   "cell_type": "markdown",
   "metadata": {},
   "source": [
    "#### 사용자가 값을 편하게 바를 이용하여 변경하는 것"
   ]
  },
  {
   "cell_type": "code",
   "execution_count": 2,
   "metadata": {},
   "outputs": [],
   "source": [
    "import cv2\n",
    "import numpy as np"
   ]
  },
  {
   "cell_type": "code",
   "execution_count": 3,
   "metadata": {},
   "outputs": [],
   "source": [
    "def change_color(x):\n",
    "    r = cv2.getTrackbarPos(\"R\", \"Image\")\n",
    "    g = cv2.getTrackbarPos(\"G\", \"Image\")\n",
    "    b = cv2.getTrackbarPos(\"B\", \"Image\")\n",
    "    image[:] = [b, g, r]\n",
    "    cv2.imshow('Image', image)\n",
    "image = np.zeros((600, 400, 3), np.uint8)\n",
    "cv2.namedWindow(\"Image\")\n",
    "\n",
    "cv2.createTrackbar(\"R\", \"Image\", 0, 255, change_color)\n",
    "cv2.createTrackbar(\"G\", \"Image\", 0, 255, change_color)\n",
    "cv2.createTrackbar(\"B\", \"Image\", 0, 255, change_color)\n",
    "\n",
    "cv2.imshow(\"Image\", image)\n",
    "cv2.waitKey(0)\n",
    "cv2.destroyAllWindows()"
   ]
  }
 ],
 "metadata": {
  "kernelspec": {
   "display_name": "Python 3",
   "language": "python",
   "name": "python3"
  },
  "language_info": {
   "codemirror_mode": {
    "name": "ipython",
    "version": 3
   },
   "file_extension": ".py",
   "mimetype": "text/x-python",
   "name": "python",
   "nbconvert_exporter": "python",
   "pygments_lexer": "ipython3",
   "version": "3.7.5"
  }
 },
 "nbformat": 4,
 "nbformat_minor": 2
}
